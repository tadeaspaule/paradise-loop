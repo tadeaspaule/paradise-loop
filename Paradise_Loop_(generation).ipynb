{
 "cells": [
  {
   "cell_type": "markdown",
   "metadata": {},
   "source": [
    "# Paradise Loop - Text generation file\n",
    "## AI that generates a 'Paradise Lost'-esque poem"
   ]
  },
  {
   "cell_type": "code",
   "execution_count": 1,
   "metadata": {},
   "outputs": [],
   "source": [
    "from tensorflow import keras\n",
    "import numpy as np\n",
    "import sys, random,os"
   ]
  },
  {
   "cell_type": "markdown",
   "metadata": {},
   "source": [
    "### Getting the Paradise Lost text data\n",
    "You can find the file I used at http://www.gutenberg.org/cache/epub/26/pg26.txt <br>\n",
    "I did a bit of preprocessing, removing the intro text and the licence at the end"
   ]
  },
  {
   "cell_type": "code",
   "execution_count": 2,
   "metadata": {},
   "outputs": [
    {
     "name": "stdout",
     "output_type": "stream",
     "text": [
      "Corpus length: 453692\n"
     ]
    }
   ],
   "source": [
    "path = 'paradise-lost.txt'\n",
    "text = open(path).read().lower()\n",
    "print(\"Corpus length:\",len(text))"
   ]
  },
  {
   "cell_type": "code",
   "execution_count": 3,
   "metadata": {},
   "outputs": [],
   "source": [
    "# Making a char index\n",
    "\n",
    "chars = sorted(list(set(text)))\n",
    "char_index = dict((char, chars.index(char)) for char in chars)"
   ]
  },
  {
   "cell_type": "code",
   "execution_count": 4,
   "metadata": {},
   "outputs": [],
   "source": [
    "# Get a list of lines of the poem\n",
    "\n",
    "lines = text.split(\"\\n\")"
   ]
  },
  {
   "cell_type": "markdown",
   "metadata": {},
   "source": [
    "### Defining a method to sample the next character\n",
    "The model's output is a probability tensor of size len(chars).<br>\n",
    "This sampling method gives us more control over which character is picked from this tensor, by using 'temperature'.<br>\n",
    "A temperature 1 means weighted randomness, so a char with value 0.3 gets picked 30% of the time.\n",
    "A temperature of 0 means always picking the char with the highest value\n",
    "This is a spectrum, so try out different values between 0 and 1"
   ]
  },
  {
   "cell_type": "code",
   "execution_count": 5,
   "metadata": {},
   "outputs": [],
   "source": [
    "def sample(preds,temperature=1.0):\n",
    "    preds = np.asarray(preds).astype('float64')\n",
    "    if (temperature == 0):\n",
    "        # Avoiding a division by 0 error\n",
    "        return np.argmax(preds)\n",
    "    preds = np.log(preds) / temperature\n",
    "    exp_preds = np.exp(preds)\n",
    "    preds = exp_preds / np.sum(exp_preds)\n",
    "    probas = np.random.multinomial(1,preds,1)\n",
    "    return np.argmax(probas)"
   ]
  },
  {
   "cell_type": "markdown",
   "metadata": {},
   "source": [
    "### Defining a method to generate text\n",
    "The text generation works like this:<br>\n",
    "1. Start with a random part of the original Paradise Lost\n",
    "2. Store that in a variable 'generated_text'\n",
    "3. Pass the last 80 characters of 'generated_text' to the model\n",
    "4. The model predicts a character which should go next\n",
    "5. Append that character to 'generated_text'\n",
    "6. Repeat steps 3. to 5. until you've reached the desired length"
   ]
  },
  {
   "cell_type": "code",
   "execution_count": 6,
   "metadata": {},
   "outputs": [],
   "source": [
    "def gen_text(gen_length,epoch,temperature,start_lines=5,debug_messages=False):\n",
    "    maxlen = 80\n",
    "    # Loading the model\n",
    "    model_dir = \"paradise_loop_models\" # Change this if you used a different one\n",
    "    model_path = model_dir+\"/epoch_\"+str(epoch)+\"_2lstms.hdf5\"\n",
    "    model = keras.models.load_model(model_path)\n",
    "    if debug_messages:\n",
    "        print(\"model\",model_path,\"loaded\")\n",
    "    start_index = random.randint(0,len(lines)-start_lines)\n",
    "    generated_text = \"\\n\".join(lines[start_index:start_index+start_lines])\n",
    "    for i in range(gen_length):\n",
    "        if i % 100 == 0 and debug_messages:\n",
    "            # Keeps track of the program's progress in case you want long text files\n",
    "            print(i,\"/\",gen_length,\"characters added\")\n",
    "        \n",
    "        # Sampled holds the last MAXLEN characters\n",
    "        sampled = np.zeros((1,maxlen,len(chars)))\n",
    "        for j, char in enumerate(generated_text[-maxlen:]):\n",
    "            sampled[0,j,char_index[char]] = 1.\n",
    "\n",
    "        with np.errstate(divide='ignore'):\n",
    "            preds = model.predict(sampled,verbose=0)[0] # gets the next character (in one-hot-encode form)\n",
    "            next_index = sample(preds,temperature) # gets index of next character (as int)\n",
    "            next_char = chars[next_index]\n",
    "\n",
    "        # Updates the 'generated_text' variable\n",
    "        generated_text += next_char\n",
    "\n",
    "    return generated_text"
   ]
  },
  {
   "cell_type": "markdown",
   "metadata": {},
   "source": [
    "### Generating text\n",
    "Here you can define which models and temperatures to use, how long the outputs should be, and where to put them."
   ]
  },
  {
   "cell_type": "code",
   "execution_count": null,
   "metadata": {},
   "outputs": [
    {
     "name": "stdout",
     "output_type": "stream",
     "text": [
      "Directory already exists, inserting files in existing directory\n"
     ]
    }
   ],
   "source": [
    "epoch_numbers_to_try = [15]\n",
    "temperatures_to_try = [0.3,0.75,1.0]\n",
    "output_length = 1500\n",
    "output_dir_name = \"paradise_loop_text_output\"\n",
    "try:\n",
    "    os.mkdir(output_dir_name)\n",
    "except:\n",
    "    print(\"Directory already exists, inserting files in existing directory\")\n",
    "for epoch in epoch_numbers_to_try:\n",
    "    for temp in temperatures_to_try:\n",
    "        fname = output_dir_name+\"/epoch_\"+str(epoch)+\"length_\"+str(output_length)+\"temp_\"+str(temp)+\".txt\"\n",
    "        with open(fname,\"w+\") as f:\n",
    "            f.write(gen_text(output_length,epoch,temp,debug_messages=True))\n",
    "    "
   ]
  },
  {
   "cell_type": "code",
   "execution_count": null,
   "metadata": {},
   "outputs": [],
   "source": []
  }
 ],
 "metadata": {
  "kernelspec": {
   "display_name": "Python (tensorflow)",
   "language": "python",
   "name": "tensorflow"
  },
  "language_info": {
   "codemirror_mode": {
    "name": "ipython",
    "version": 3
   },
   "file_extension": ".py",
   "mimetype": "text/x-python",
   "name": "python",
   "nbconvert_exporter": "python",
   "pygments_lexer": "ipython3",
   "version": "3.6.7"
  }
 },
 "nbformat": 4,
 "nbformat_minor": 2
}
